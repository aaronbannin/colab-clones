{
  "nbformat": 4,
  "nbformat_minor": 0,
  "metadata": {
    "colab": {
      "provenance": [],
      "gpuType": "T4",
      "include_colab_link": true
    },
    "kernelspec": {
      "name": "python3",
      "display_name": "Python 3"
    },
    "language_info": {
      "name": "python"
    },
    "accelerator": "GPU"
  },
  "cells": [
    {
      "cell_type": "markdown",
      "metadata": {
        "id": "view-in-github",
        "colab_type": "text"
      },
      "source": [
        "<a href=\"https://colab.research.google.com/github/aaronbannin/colab-clones/blob/main/Advent_of_Haystack_Find_the_hidden_answer.ipynb\" target=\"_parent\"><img src=\"https://colab.research.google.com/assets/colab-badge.svg\" alt=\"Open In Colab\"/></a>"
      ]
    },
    {
      "cell_type": "markdown",
      "source": [
        "# Advent of Haystack - Day 2\n",
        "_Make a copy of this Colab to start!_\n",
        "\n",
        "\n",
        "In this challenge, you will complete a scavenger hunt prepared by the Haystack elves. Find what their favorite animals is!!\n",
        "\n",
        "- [`LinkContentFetcher`](https://docs.haystack.deepset.ai/v2.0/docs/linkcontentfetcher): This will allow you to fetch the contents of https://haystack.deepset.ai/advent-of-haystack/day-1#challenge\n",
        "- [`HTMLToDocument`](https://docs.haystack.deepset.ai/v2.0/docs/htmltodocument): Once you've fetched the contents, this component will allow you to convert it to a Document\n",
        "- [`DocumentSplitter`](https://docs.haystack.deepset.ai/v2.0/docs/documentsplitter) (Optional): This is useful if you want to split your Document into chunks\n",
        "- [`TransformersSimilarityRanker`](https://docs.haystack.deepset.ai/v2.0/docs/transformerssimilarityranker) (Optional): This is useful if you want to rank your documents (chunked with the splitter above) so that the most relevant is at the top.\n",
        "- [`PromptBuilder`](https://docs.haystack.deepset.ai/v2.0/docs/promptbuilder): This is used to define how you want to prompr an LLM so that it generates an accurate response for you. We’ve included one for you in the starter Colab that will help you with this challenge.\n",
        "- [`GPTGenerator`](https://docs.haystack.deepset.ai/v2.0/docs/gptgenerator): This component is used to query GPT. You can change this to one of our other generators instead!"
      ],
      "metadata": {
        "id": "9aQZbzmu5RhN"
      }
    },
    {
      "cell_type": "markdown",
      "source": [
        "#Installation\n",
        "**Note:** There is a known issue with colab due to a version conflict error related to `llmx` which comes with Colab. You might get an `llmx` error. You can safely ignore this, or run `pip uninstall -y llmx`"
      ],
      "metadata": {
        "id": "StheMrF6WChd"
      }
    },
    {
      "cell_type": "code",
      "execution_count": null,
      "metadata": {
        "id": "vsK2E3oCpm3b"
      },
      "outputs": [],
      "source": [
        "%%bash\n",
        "pip install haystack-ai\n",
        "pip install boilerpy3\n",
        "pip install transformers[torch,sentencepiece]==4.32.1 sentence-transformers>=2.2.0"
      ]
    },
    {
      "cell_type": "markdown",
      "source": [
        "Run this code and you’ll be prompted to enter your openAI credentials. If you don’t have a key, [follow these instructions](https://help.openai.com/en/articles/4936850-where-do-i-find-my-api-key)."
      ],
      "metadata": {
        "id": "bhilvHQIrf2X"
      }
    },
    {
      "cell_type": "code",
      "source": [
        "from getpass import getpass\n",
        "\n",
        "openai_api_key = getpass(\"Enter OpenAI Api key: \")"
      ],
      "metadata": {
        "colab": {
          "base_uri": "https://localhost:8080/"
        },
        "id": "kVUhdPXea8Wh",
        "outputId": "f2569d95-ecbd-41ac-f1f2-fcff4e8bf9c8"
      },
      "execution_count": null,
      "outputs": [
        {
          "name": "stdout",
          "output_type": "stream",
          "text": [
            "Enter OpenAI Api key: ··········\n"
          ]
        }
      ]
    },
    {
      "cell_type": "markdown",
      "source": [
        "## Create a Pipeline to fetch the contents of a webpage\n",
        "\n",
        "Complete the code cell below to create a pipeline that fetches the contents from  https://haystack.deepset.ai/advent-of-haystack/day-1#challenge"
      ],
      "metadata": {
        "id": "G4fnirIbcvDm"
      }
    },
    {
      "cell_type": "code",
      "source": [
        "from haystack.components.fetchers.link_content import LinkContentFetcher\n",
        "from haystack.components.converters import HTMLToDocument\n",
        "from haystack.components.preprocessors import DocumentSplitter\n",
        "from haystack.components.rankers import TransformersSimilarityRanker\n",
        "from haystack.components.generators import GPTGenerator\n",
        "from haystack.components.builders.prompt_builder import PromptBuilder\n",
        "from haystack import Pipeline\n",
        "\n",
        "\n",
        "prompt_template = \"\"\"\n",
        "According to these documents:\n",
        "\n",
        "{% for doc in documents %}\n",
        "  {{ doc.content }}\n",
        "{% endfor %}\n",
        "\n",
        "Answer the given question: {{question}}\n",
        "Answer:\n",
        "\"\"\"\n",
        "prompt_builder = PromptBuilder(template=prompt_template)\n",
        "\n",
        "pipeline = Pipeline()"
      ],
      "metadata": {
        "id": "35tdUVgfYFi1"
      },
      "execution_count": null,
      "outputs": []
    },
    {
      "cell_type": "markdown",
      "source": [
        "## Try to find the answer to the question\n",
        "\n"
      ],
      "metadata": {
        "id": "kKbmWPWvcaP0"
      }
    },
    {
      "cell_type": "code",
      "source": [
        "question = \"What is our favorite animal?\"\n",
        "result = pipe.run({\"prompt_builder\": {\"question\": question},\n",
        "                   \"ranker\": {\"query\": question},\n",
        "                   \"fetcher\": {\"urls\": [\"https://haystack.deepset.ai/advent-of-haystack/day-1#challenge\"]}})\n",
        "\n",
        "print(result['llm']['replies'][0])"
      ],
      "metadata": {
        "id": "fk-LYY5vbVjf"
      },
      "execution_count": null,
      "outputs": []
    }
  ]
}